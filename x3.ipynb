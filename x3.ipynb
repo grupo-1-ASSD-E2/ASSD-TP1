{
 "cells": [
  {
   "cell_type": "markdown",
   "metadata": {},
   "source": [
    "## Determinación de $f_p$ para los filtros\n",
    "### Análisis de la señal $x_3$\n",
    "$x_3(t)=V_{max}\\cdot e^{-|t|}$ definida para t entre -5 y 5s, periódica. T=10s.\n"
   ]
  },
  {
   "cell_type": "code",
   "execution_count": null,
   "metadata": {},
   "outputs": [],
   "source": [
    "import scipy.signal as ss\n",
    "import matplotlib.pyplot as plt\n",
    "import numpy as np\n",
    "import math \n",
    "import cmath"
   ]
  },
  {
   "cell_type": "markdown",
   "metadata": {},
   "source": [
    "Escribiendo a $x_3(t)$ mediante la serie exponencial de Fourier:\n",
    "$$x(t)\\approx \\sum_{k \\in Z}^{}X_k.e^{ik\\omega_0t}$$\n",
    "$$X_k = \\frac{1}{T} \\int_{t_0}^{t_0+T}x_3(t).e^{-ik\\omega_0t}dt, \\forall k \\in Z$$\n",
    "\n",
    "Utilizando la expresión anterior, se obtiene que:\n",
    "$$X_k = \\frac{V_{max}}{10}[\\frac{1}{1-ik\\omega_0}(1-e^{-5(1-ik\\omega_0)})-\\frac{1}{1+ik\\omega_0}(e^{-5(1+ik\\omega_0)}-1)]$$\n"
   ]
  },
  {
   "cell_type": "code",
   "execution_count": null,
   "metadata": {},
   "outputs": [],
   "source": [
    "Vmax = 15\n",
    "T = 10\n",
    "w0 = (2 * math.pi) / T \n",
    "Xk = (Vmax / 10) * ((1/complex(1,-k*w0)) * (1 - math.exp((-5)*(1-complex(1,-k*w0)))) - (1/complex(1,k*w0)) * (math.exp((-5)*complex(1,k*w0)-1))\n"
   ]
  }
 ],
 "metadata": {
  "file_extension": ".py",
  "kernelspec": {
   "display_name": "Python 3",
   "language": "python",
   "name": "python3"
  },
  "language_info": {
   "codemirror_mode": {
    "name": "ipython",
    "version": 3
   },
   "file_extension": ".py",
   "mimetype": "text/x-python",
   "name": "python",
   "nbconvert_exporter": "python",
   "pygments_lexer": "ipython3",
   "version": "3.7.4"
  },
  "mimetype": "text/x-python",
  "name": "python",
  "npconvert_exporter": "python",
  "pygments_lexer": "ipython3",
  "version": 3
 },
 "nbformat": 4,
 "nbformat_minor": 4
}
