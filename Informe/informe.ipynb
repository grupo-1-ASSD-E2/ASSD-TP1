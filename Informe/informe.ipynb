{
 "cells": [
  {
   "cell_type": "markdown",
   "metadata": {},
   "source": [
    "ACA TRABAJO YO"
   ]
  },
  {
   "cell_type": "markdown",
   "metadata": {},
   "source": [
    "SANTI, CREA CELDAS ACA ABAJO PARA PROBAR"
   ]
  },
  {
   "cell_type": "markdown",
   "metadata": {},
   "source": [
    "## Esto es una prueba\n",
    "No mirar la ortografia de lo que esta aca escrito\n",
    "\\begin{equation}\n",
    "    x(n) = \\frac{x(n-2)}{x(n-1)}\n",
    "\\end{equation}"
   ]
  },
  {
   "cell_type": "markdown",
   "metadata": {},
   "source": [
    "Igualdad de Parseval\n",
    "$$ \\frac{1}{L}\\int_{-L}^L |x(t)|^2 dt = \\frac{|a_0|^2}{2} + \\sum_{n=1}^{\\infty}\\left[|a_n|^2+|b_n|^2\\right]$$"
   ]
  },
  {
   "cell_type": "code",
   "execution_count": null,
   "metadata": {},
   "outputs": [],
   "source": []
  },
  {
   "cell_type": "code",
   "execution_count": null,
   "metadata": {},
   "outputs": [],
   "source": []
  }
 ],
 "metadata": {
  "file_extension": ".py",
  "kernelspec": {
   "display_name": "Python 3",
   "language": "python",
   "name": "python3"
  },
  "language_info": {
   "codemirror_mode": {
    "name": "ipython",
    "version": 3
   },
   "file_extension": ".py",
   "mimetype": "text/x-python",
   "name": "python",
   "nbconvert_exporter": "python",
   "pygments_lexer": "ipython3",
   "version": "3.7.4"
  },
  "mimetype": "text/x-python",
  "name": "python",
  "npconvert_exporter": "python",
  "pygments_lexer": "ipython3",
  "version": 3
 },
 "nbformat": 4,
 "nbformat_minor": 4
}
