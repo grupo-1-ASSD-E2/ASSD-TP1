{
 "nbformat": 4,
 "nbformat_minor": 2,
 "metadata": {
  "language_info": {
   "name": "python",
   "codemirror_mode": {
    "name": "ipython",
    "version": 3
   },
   "version": "3.7.3-final"
  },
  "orig_nbformat": 2,
  "file_extension": ".py",
  "mimetype": "text/x-python",
  "name": "python",
  "npconvert_exporter": "python",
  "pygments_lexer": "ipython3",
  "version": 3,
  "kernelspec": {
   "name": "python37364bit9776cce1d0db458e8b8031f018b420d0",
   "display_name": "Python 3.7.3 64-bit"
  }
 },
 "cells": [
  {
   "cell_type": "markdown",
   "metadata": {},
   "source": [
    "ACA TRABAJO YO"
   ]
  },
  {
   "cell_type": "markdown",
   "metadata": {},
   "source": [
    "SANTI, CREA CELDAS ACA ABAJO PARA PROBAR"
   ]
  }
 ]
}