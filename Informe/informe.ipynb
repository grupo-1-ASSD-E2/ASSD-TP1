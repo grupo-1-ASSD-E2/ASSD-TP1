{
 "nbformat": 4,
 "nbformat_minor": 2,
 "metadata": {
  "language_info": {
   "name": "python",
   "codemirror_mode": {
    "name": "ipython",
    "version": 3
   },
   "version": "3.7.3-final"
  },
  "orig_nbformat": 2,
  "file_extension": ".py",
  "mimetype": "text/x-python",
  "name": "python",
  "npconvert_exporter": "python",
  "pygments_lexer": "ipython3",
  "version": 3,
  "kernelspec": {
   "name": "python37364bit9776cce1d0db458e8b8031f018b420d0",
   "display_name": "Python 3.7.3 64-bit"
  }
 },
 "cells": [
  {
   "cell_type": "markdown",
   "metadata": {},
   "source": [
    "ACA TRABAJO YO"
   ],
   "execution_count": null,
   "outputs": []
  },
  {
   "cell_type": "code",
   "execution_count": null,
   "metadata": {},
   "outputs": [],
   "source": [
    "print('testing git')"
   ]
  },
  {
   "cell_type": "markdown",
   "metadata": {},
   "source": [
    "Testing git again"
   ],
   "execution_count": null,
   "outputs": []
  },
  {
   "cell_type": "markdown",
   "metadata": {},
   "source": [
    "SANTI, CREA CELDAS ACA ABAJO PARA PROBAR"
<<<<<<< HEAD
   ],
=======
   ]
  },
  {
   "cell_type": "markdown",
   "metadata": {},
   "source": [
    "## Esto es una prueba\n",
    "No mirar la ortografia de lo que esta aca escrito\n",
    "\\begin{equation}\n",
    "    x(n) = \\frac{x(n-2)}{x(n-1)}\n",
    "\\end{equation}"
   ]
  },
  {
   "cell_type": "markdown",
   "metadata": {},
   "source": [
    "Igualdad de Parseval\n",
    "$$ \\frac{1}{L}\\int_{-L}^L |x(t)|^2 dt = \\frac{|a_0|^2}{2} + \\sum_{n=1}^{\\infty}\\left[|a_n|^2+|b_n|^2\\right]$$"
   ]
  },
  {
   "cell_type": "code",
   "execution_count": null,
   "metadata": {},
   "outputs": [],
   "source": []
  },
  {
   "cell_type": "code",
>>>>>>> 12eb8cdc9b3b8d5c7d297543a89bf712cd8a77ef
   "execution_count": null,
   "outputs": []
  }
 ]
}