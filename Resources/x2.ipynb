{
 "cells": [
  {
   "cell_type": "markdown",
   "metadata": {},
   "source": [
    "## Determinación de $f_p$ para los filtros\n",
    "### Análisis de la señal $x_2$\n",
    "$x_2(t)=V_{max}\\cdot sin(2\\pi\\cdot f_i\\cdot t)$ definida para t entre 0 y $\\frac{3}{2\\cdot f_i}$, periódica. T=$\\frac{3}{2\\cdot f_i}$."
   ]
  },
  {
   "cell_type": "code",
   "execution_count": 1,
   "metadata": {},
   "outputs": [],
   "source": [
    "import scipy.signal as ss\n",
    "import matplotlib.pyplot as plt\n",
    "import numpy as np"
   ]
  },
  {
   "cell_type": "markdown",
   "metadata": {},
   "source": [
    "Al ser $x_2(t)$ una funcion real y par, se puede realizar su desarrollo en serie trigonométrica de Fourier, sabiendo que $b_n = 0, \\forall n$, ya que se trata de una señal par.\n",
    "$$ x(t) = \\frac{a_0}{2} + \\sum_{n=1}^{\\infty}a_n\\cdot cos(2\\pi n f_i\\cdot t) $$\n",
    "$$ a_0 = \\frac{2}{T}\\cdot \\int_0^T x_2(t) dt = \\frac{4\\cdot A_{max}}{3\\pi}$$\n",
    "$$ a_n = \\frac{2}{T}\\cdot \\int_0^T x_2(t)\\cdot cos(2\\pi n f_i \\cdot t) dt = \\frac{12 \\cdot A_{max}}{(9-4n^2)\\pi}$$\n",
    "Para definir la frecuencia de corte del filtro antialiasing se busco conservar la mayor proporcion de potencia de la señal. Para lo cual se evaluo la potencia potencia acumulada para los respectivos armonicos.\n",
    "$$ P = \\frac{2f_i}{3}\\cdot \\int_0^{\\frac{3}{2f_i}} |A_{max}\\cdot sen(2\\pi f_i \\cdot t)|^2 dt = \\frac{|a_0|^2}{4} + \\sum_{n=1}^{\\infty}\\frac{|a_n|^2}{2}$$ \n",
    "$$ \\frac{P_k}{P} = \\frac{|a_0|^2 + \\sum_{n=1}^{k}\\frac{|a_n|^2}{2}}{P}, k\\in \\mathbb{N}$$"
   ]
  },
  {
   "cell_type": "code",
   "execution_count": 27,
   "metadata": {},
   "outputs": [],
   "source": [
    "from sympy import integrate, sin, pi, Abs, factor, N\n",
    "from sympy.abc import t,a,n"
   ]
  },
  {
   "cell_type": "code",
   "execution_count": 53,
   "metadata": {},
   "outputs": [
    {
     "data": {
      "image/png": "[encoded data removed]",
      "text/plain": [
       "<Figure size 432x288 with 1 Axes>"
      ]
     },
     "metadata": {
      "needs_background": "light"
     },
     "output_type": "display_data"
    }
   ],
   "source": [
    "fun = sin(2*pi*500*t)\n",
    "P = 6*500/3 * integrate(fun**2,(t,0, 1/(2*500)))\n",
    "a_0 = 4/(3*pi)\n",
    "a_n = 12/((9-4*n**2)*pi)\n",
    "P_k = []\n",
    "freq_k = []\n",
    "for k in range(1,7):\n",
    "    freq_k.append(k*500)\n",
    "    P_k.append(N((a_0**2)/4, 5))\n",
    "    for _n in range(1,k+1):\n",
    "        P_k[k-1] += N(((a_n.subs(n,_n))**2)/2,5)\n",
    "    P_k[k-1] = N(factor(P_k[k-1]/P*100), 5)\n",
    "\n",
    "plt.plot(freq_k, P_k)\n",
    "plt.grid(True)"
   ]
  },
  {
   "cell_type": "code",
   "execution_count": null,
   "metadata": {},
   "outputs": [],
   "source": []
  }
 ],
 "metadata": {
  "kernelspec": {
   "display_name": "Python 3",
   "language": "python",
   "name": "python3"
  },
  "language_info": {
   "codemirror_mode": {
    "name": "ipython",
    "version": 3
   },
   "file_extension": ".py",
   "mimetype": "text/x-python",
   "name": "python",
   "nbconvert_exporter": "python",
   "pygments_lexer": "ipython3",
   "version": "3.7.4"
  }
 },
 "nbformat": 4,
 "nbformat_minor": 4
}
