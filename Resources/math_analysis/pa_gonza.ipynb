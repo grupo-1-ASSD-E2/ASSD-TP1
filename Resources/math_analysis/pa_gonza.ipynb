{
 "nbformat": 4,
 "nbformat_minor": 2,
 "metadata": {
  "language_info": {
   "name": "python",
   "codemirror_mode": {
    "name": "ipython",
    "version": 3
   },
   "version": "3.7.3-final"
  },
  "orig_nbformat": 2,
  "file_extension": ".py",
  "mimetype": "text/x-python",
  "name": "python",
  "npconvert_exporter": "python",
  "pygments_lexer": "ipython3",
  "version": 3,
  "kernelspec": {
   "name": "python37364bit9776cce1d0db458e8b8031f018b420d0",
   "display_name": "Python 3.7.3 64-bit"
  }
 },
 "cells": [
  {
   "cell_type": "code",
   "execution_count": 1,
   "metadata": {},
   "outputs": [],
   "source": [
    "import numpy as np\n",
    "from decimal import Decimal"
   ]
  },
  {
   "cell_type": "code",
   "execution_count": 14,
   "metadata": {},
   "outputs": [],
   "source": [
    "def evaluate_periodic_exp(time_array : list):\n",
    "    V_MAX = 1\n",
    "    res = []\n",
    "    for t in time_array:\n",
    "        t_in_oritginal_period = float(Decimal(str(t)) % Decimal('10'))\n",
    "\n",
    "        if t_in_oritginal_period < 0:\n",
    "            t_in_oritginal_period = 10 - t_in_oritginal_period\n",
    "\n",
    "        if t_in_oritginal_period < 5:\n",
    "            y = V_MAX * np.e**(-np.abs(t_in_oritginal_period))\n",
    "        else:\n",
    "            y = V_MAX * np.e**(-np.abs(t_in_oritginal_period - 10))\n",
    "            \n",
    "        res.append(y)\n",
    "    return res"
   ]
  },
  {
   "cell_type": "code",
   "execution_count": 15,
   "metadata": {},
   "outputs": [
    {
     "output_type": "execute_result",
     "data": {
      "text/plain": "[0.006737946999085469,\n 1.0,\n 0.04978706836786395,\n 0.027598330423249294,\n 1.0,\n 0.006737946999085469,\n 0.04978706836786395]"
     },
     "metadata": {},
     "execution_count": 15
    }
   ],
   "source": [
    "evaluate_periodic_exp([-5, 10, 13, 23.59, 0, 105, 7])"
   ]
  },
  {
   "cell_type": "code",
   "execution_count": 16,
   "metadata": {},
   "outputs": [
    {
     "output_type": "execute_result",
     "data": {
      "text/plain": "[0.006737946999085469,\n 1.0,\n 0.04978706836786395,\n 0.027598330423249294,\n 1.0,\n 0.006737946999085469,\n 0.04978706836786395]"
     },
     "metadata": {},
     "execution_count": 16
    }
   ],
   "source": [
    "[np.e ** (-5), np.e ** (0), np.e ** (-3), np.e ** (-3.59), np.e ** (0), np.e ** (-5), np.e ** (-3)]\n",
    ""
   ]
  }
 ]
}