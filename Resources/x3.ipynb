{
 "cells": [
  {
   "cell_type": "markdown",
   "metadata": {},
   "source": [
    "## Determinación de $f_p$ para los filtros\n",
    "### Análisis de la señal $x_3$\n",
    "$x_3(t)=V_{max}\\cdot e^{-|t|}$ definida para t entre -5 y 5s, periódica. T=10s.\n"
   ]
  },
  {
   "cell_type": "code",
   "execution_count": 2,
   "metadata": {},
   "outputs": [],
   "source": [
    "import scipy.signal as ss\n",
    "import matplotlib.pyplot as plt\n",
    "import numpy as np\n",
    "import math \n",
    "import cmath"
   ]
  },
  {
   "cell_type": "markdown",
   "metadata": {},
   "source": [
    "Escribiendo a $x_3(t)$ mediante la serie exponencial de Fourier:\n",
    "$$x(t)\\approx \\sum_{k \\in Z}^{}X_k.e^{ik\\omega_0t}$$\n",
    "$$X_k = \\frac{1}{T} \\int_{t_0}^{t_0+T}x_3(t).e^{-ik\\omega_0t}dt, \\forall k \\in Z$$\n",
    "\n",
    "Utilizando la expresión anterior, se obtiene que:\n",
    "$$X_k = \\frac{V_{max}}{10}[\\frac{1}{1-ik\\omega_0}(1-e^{-5(1-ik\\omega_0)})-\\frac{1}{1+ik\\omega_0}(e^{-5(1+ik\\omega_0)}-1)]$$\n",
    "Reemplazando $\\omega_0 = \\frac{2\\pi}{10}$\n",
    "$$ X_k = \\frac{V_{max}}{5}\\cdot \\frac{1-e^{-5}\\cdot(-1)^k}{1+\\left(\\frac{2\\pi k}{10}\\right)^2}$$\n",
    "Al ser una funcion par y real se pueden obtener los coeficientes de la serie trigonometrica siendo $a_k = 2\\cdot X_k$ ya que $X_k = X_{-k}, \\forall k \\in Z$ "
   ]
  },
  {
   "cell_type": "code",
   "execution_count": 31,
   "metadata": {},
   "outputs": [],
   "source": [
    "from sympy import integrate, N, factor\n",
    "from sympy.abc import k, t,n\n",
    "\n",
    "Vmax = 5\n",
    "T = 10\n",
    "w0 = (2 * math.pi) / T \n",
    "Xk = (Vmax / 5) * ((1-math.e**(-5)*(-1)**k)/(1+(2*math.pi*k/10)**2))\n",
    "\n",
    "fun = Vmax*math.e**-t\n",
    "P = 1/5 * integrate(fun**2,(t, 0, 5))"
   ]
  },
  {
   "cell_type": "code",
   "execution_count": 29,
   "metadata": {},
   "outputs": [
    {
     "data": {
      "image/png": "[encoded data removed]",
      "text/plain": [
       "<Figure size 432x288 with 1 Axes>"
      ]
     },
     "metadata": {
      "needs_background": "light"
     },
     "output_type": "display_data"
    }
   ],
   "source": [
    "from sympy.abc import n\n",
    "a_0 = 2*Vmax/5*(1-math.e**(-5))\n",
    "a_n = 2*Vmax/5*(1-math.e**(-5)*(-1)**n)/(1+(math.pi*n/5)**2)\n",
    "P_k = []\n",
    "freq_k = []\n",
    "for k in range(1,30):\n",
    "    freq_k.append(N(k*1/10,5))\n",
    "    P_k.append(N((a_0**2)/4, 5))\n",
    "    for _n in range(1,k+1):\n",
    "        P_k[k-1] += N(((a_n.subs(n,_n))**2)/2,5)\n",
    "    P_k[k-1] = N(factor(P_k[k-1]/P*100), 5)\n",
    "plt.plot(freq_k, P_k)\n",
    "plt.grid(True)"
   ]
  },
  {
   "cell_type": "code",
   "execution_count": null,
   "metadata": {},
   "outputs": [],
   "source": []
  }
 ],
 "metadata": {
  "file_extension": ".py",
  "kernelspec": {
   "display_name": "Python 3",
   "language": "python",
   "name": "python3"
  },
  "language_info": {
   "codemirror_mode": {
    "name": "ipython",
    "version": 3
   },
   "file_extension": ".py",
   "mimetype": "text/x-python",
   "name": "python",
   "nbconvert_exporter": "python",
   "pygments_lexer": "ipython3",
   "version": "3.7.4"
  },
  "mimetype": "text/x-python",
  "name": "python",
  "npconvert_exporter": "python",
  "pygments_lexer": "ipython3",
  "version": 3
 },
 "nbformat": 4,
 "nbformat_minor": 4
}
